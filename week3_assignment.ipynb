{
  "nbformat": 4,
  "nbformat_minor": 0,
  "metadata": {
    "colab": {
      "name": "week3_assignment.ipynb",
      "provenance": [],
      "authorship_tag": "ABX9TyMyQpdPYao55CTOKw8FeFwa",
      "include_colab_link": true
    },
    "kernelspec": {
      "name": "python3",
      "display_name": "Python 3"
    },
    "language_info": {
      "name": "python"
    }
  },
  "cells": [
    {
      "cell_type": "markdown",
      "metadata": {
        "id": "view-in-github",
        "colab_type": "text"
      },
      "source": [
        "<a href=\"https://colab.research.google.com/github/Tejasvini2001/CELEBAL/blob/main/week3_assignment.ipynb\" target=\"_parent\"><img src=\"https://colab.research.google.com/assets/colab-badge.svg\" alt=\"Open In Colab\"/></a>"
      ]
    },
    {
      "cell_type": "code",
      "execution_count": null,
      "metadata": {
        "id": "tLJLME7xoD4m"
      },
      "outputs": [],
      "source": [
        ""
      ]
    },
    {
      "cell_type": "markdown",
      "source": [
        "List:-\n",
        " creating a list\n",
        " \n"
      ],
      "metadata": {
        "id": "flZ0OyOioE66"
      }
    },
    {
      "cell_type": "code",
      "source": [
        "#int\n",
        "l1=[4,5,6,7]\n",
        "#string\n",
        "l2=[\"puja\",\"sonal\",\"priya\",\"priti\"]\n",
        "print(l1)\n",
        "print(l2)"
      ],
      "metadata": {
        "colab": {
          "base_uri": "https://localhost:8080/"
        },
        "id": "1HQ9PdiJoO09",
        "outputId": "208d4a72-1b9d-4363-9bb8-58c01f0f3f74"
      },
      "execution_count": 1,
      "outputs": [
        {
          "output_type": "stream",
          "name": "stdout",
          "text": [
            "[4, 5, 6, 7]\n",
            "['puja', 'sonal', 'priya', 'priti']\n"
          ]
        }
      ]
    },
    {
      "cell_type": "markdown",
      "source": [
        "Duplicate value in string:-"
      ],
      "metadata": {
        "id": "F78WyLoApHay"
      }
    },
    {
      "cell_type": "code",
      "source": [
        "l1=[2,3,4,5,5,4,7,8]\n",
        "print(\"Duplicate value:\",l1)"
      ],
      "metadata": {
        "colab": {
          "base_uri": "https://localhost:8080/"
        },
        "id": "O35U_yJRpL65",
        "outputId": "f06732cc-e6eb-4b60-f6ea-25dc67949036"
      },
      "execution_count": 2,
      "outputs": [
        {
          "output_type": "stream",
          "name": "stdout",
          "text": [
            "Duplicate value: [2, 3, 4, 5, 5, 4, 7, 8]\n"
          ]
        }
      ]
    },
    {
      "cell_type": "markdown",
      "source": [
        "List Slicing:-"
      ],
      "metadata": {
        "id": "JWq3cwrCpqdJ"
      }
    },
    {
      "cell_type": "code",
      "source": [
        "l1=[1,2,3,4,5,6,7,8,9,10]\n",
        "print(\"current list:\",l1)\n",
        "#access value of index 1\n",
        "print(\"index 1 value:\",l1[1])\n",
        "#access value betwwen 1 to 6\n",
        "print(\"index between 1 to 6:\",l1[1:6])\n",
        "#access last value from list\n",
        "print(\"last value:\",l1[-1])"
      ],
      "metadata": {
        "colab": {
          "base_uri": "https://localhost:8080/"
        },
        "id": "AlkIkIyKpw9w",
        "outputId": "7ca7bfca-6a53-43ec-e714-f60976f5985c"
      },
      "execution_count": 3,
      "outputs": [
        {
          "output_type": "stream",
          "name": "stdout",
          "text": [
            "current list: [1, 2, 3, 4, 5, 6, 7, 8, 9, 10]\n",
            "index 1 value: 2\n",
            "index between 1 to 6: [2, 3, 4, 5, 6]\n",
            "last value: 10\n"
          ]
        }
      ]
    },
    {
      "cell_type": "markdown",
      "source": [
        "change list item:-"
      ],
      "metadata": {
        "id": "XVqP1FYgq0we"
      }
    },
    {
      "cell_type": "code",
      "source": [
        "X=[\"apple\",\"banana\",\"cherry\",\"mango\",\"orange\"]\n",
        "print(\"current list:\",X)\n",
        "#change item in list\n",
        "X[1:3]=[\"kiwi\",\"guava\"]\n",
        "print(\"updated list:\",X)"
      ],
      "metadata": {
        "colab": {
          "base_uri": "https://localhost:8080/"
        },
        "id": "dbMoVQXDrCMJ",
        "outputId": "daf0a3ca-baea-4c24-d9e0-bf782ae553bd"
      },
      "execution_count": 5,
      "outputs": [
        {
          "output_type": "stream",
          "name": "stdout",
          "text": [
            "current list: ['apple', 'banana', 'cherry', 'mango', 'orange']\n",
            "updated list: ['apple', 'kiwi', 'guava', 'mango', 'orange']\n"
          ]
        }
      ]
    },
    {
      "cell_type": "markdown",
      "source": [
        "Tuple:-\n",
        "creating tuple"
      ],
      "metadata": {
        "id": "S84ZaVxlr8mr"
      }
    },
    {
      "cell_type": "code",
      "source": [
        "t1=(\"apple\",\"orange\",1,2,3,4)\n",
        "print(\"current list:\",t1)\n"
      ],
      "metadata": {
        "id": "wveRqyvKsEkt"
      },
      "execution_count": null,
      "outputs": []
    },
    {
      "cell_type": "markdown",
      "source": [
        "How to check lenth of tuple\n"
      ],
      "metadata": {
        "id": "FAdrS5Jfsc3S"
      }
    },
    {
      "cell_type": "code",
      "source": [
        "t2=(1,2,3,4,5,6,7,8)\n",
        "print(len(t2))\n"
      ],
      "metadata": {
        "id": "ycNsTKmysiLn"
      },
      "execution_count": null,
      "outputs": []
    },
    {
      "cell_type": "markdown",
      "source": [
        "Slicing"
      ],
      "metadata": {
        "id": "kXCZNYEAss1J"
      }
    },
    {
      "cell_type": "code",
      "source": [
        "#access value using index\n",
        "t1=(\"apple\",\"orange\",1,2,3,4,5,6,10.5,5,12.4)\n",
        "print(\"current tuple:\",t1)\n",
        "print(\"index 1 value:\"t1[1])\n",
        "#access value between 1 to 6\n",
        "print(\"index between 1 to 6:\",t1[1:6])\n",
        "#access last value from list\n",
        "print(\"last value:\",t1[-1])\n",
        "#access value till index 6\n",
        "print(\"index till 6:\",t1[:6])\n"
      ],
      "metadata": {
        "id": "MModpNc4s1Sw"
      },
      "execution_count": null,
      "outputs": []
    },
    {
      "cell_type": "markdown",
      "source": [
        "convert tuple into list\n"
      ],
      "metadata": {
        "id": "oqjreYq7tKAH"
      }
    },
    {
      "cell_type": "code",
      "source": [
        "t1=(\"apple\",\"orange\",1,2,3,4,5,6,10.5,5,12.4)\n",
        "print(\"current tuple:\",t1) #before change\n",
        "x=list(t1)\n",
        "print(\"after convert:\",x) #after change\n"
      ],
      "metadata": {
        "id": "g8CWu0uZtWOC"
      },
      "execution_count": null,
      "outputs": []
    },
    {
      "cell_type": "markdown",
      "source": [
        "loop with tuple\n"
      ],
      "metadata": {
        "id": "7su2JiWmtl5R"
      }
    },
    {
      "cell_type": "code",
      "source": [
        "X=(\"apple\",\"banana\",\"cherry\",\"mango\",\"orange\")\n",
        "for i in X:\n",
        "  print(i)"
      ],
      "metadata": {
        "colab": {
          "base_uri": "https://localhost:8080/"
        },
        "id": "KIrifSDvtpbP",
        "outputId": "8b7796dc-0df2-4f5c-ad9f-cb578aaa036c"
      },
      "execution_count": 7,
      "outputs": [
        {
          "output_type": "stream",
          "name": "stdout",
          "text": [
            "apple\n",
            "banana\n",
            "cherry\n",
            "mango\n",
            "orange\n"
          ]
        }
      ]
    },
    {
      "cell_type": "markdown",
      "source": [
        "Dictionary:-\n",
        "creating a dictionary"
      ],
      "metadata": {
        "id": "l3bZcSQ9uGvn"
      }
    },
    {
      "cell_type": "code",
      "source": [
        "X=[\"apple\",\"banana\",\"cherry\",\"mango\",\"orange\"]"
      ],
      "metadata": {
        "id": "Zs3gBKsKuQ52"
      },
      "execution_count": null,
      "outputs": []
    },
    {
      "cell_type": "code",
      "source": [
        "Access value of dictionary"
      ],
      "metadata": {
        "id": "3VLkoQS9u2Po"
      },
      "execution_count": null,
      "outputs": []
    },
    {
      "cell_type": "code",
      "source": [
        "X=[\"apple\",\"banana\",\"cherry\",\"mango\",\"orange\"]\n",
        "print(\"current dictionary:\",X)"
      ],
      "metadata": {
        "id": "fhf7gHfivDEt"
      },
      "execution_count": null,
      "outputs": []
    },
    {
      "cell_type": "markdown",
      "source": [
        "Access value using key"
      ],
      "metadata": {
        "id": "ZBnjaE5svVtr"
      }
    },
    {
      "cell_type": "code",
      "source": [
        "Access value using Key\n",
        "x.d1=item()\n",
        "print(x)"
      ],
      "metadata": {
        "id": "h-GGundivaf2"
      },
      "execution_count": null,
      "outputs": []
    },
    {
      "cell_type": "markdown",
      "source": [
        "Set:-\n",
        "creating a set"
      ],
      "metadata": {
        "id": "yzLeUcLKwGiR"
      }
    },
    {
      "cell_type": "code",
      "source": [
        "s1={\"ppp\",\"ttt\",\"sss\",\"kkk\"}\n",
        "print(s1)"
      ],
      "metadata": {
        "id": "FzaQSdhowLn7"
      },
      "execution_count": null,
      "outputs": []
    },
    {
      "cell_type": "markdown",
      "source": [
        "Duplicate values will be ignore"
      ],
      "metadata": {
        "id": "6CEdVL3Kwbwm"
      }
    },
    {
      "cell_type": "code",
      "source": [
        "s1={\"ppp\",\"ttt\",\"sss\",\"ppp\"}\n",
        "print(s1)"
      ],
      "metadata": {
        "id": "wrW_WEAnwou3"
      },
      "execution_count": null,
      "outputs": []
    },
    {
      "cell_type": "markdown",
      "source": [
        "get the number of items in a set"
      ],
      "metadata": {
        "id": "9dF7O6M9w56e"
      }
    },
    {
      "cell_type": "code",
      "source": [
        "s1={\"ppp\",\"ttt\",\"sss\",\"kkk\"}\n",
        "print(len(s1))\n"
      ],
      "metadata": {
        "id": "LVsEWWx1xCZ5"
      },
      "execution_count": null,
      "outputs": []
    },
    {
      "cell_type": "markdown",
      "source": [
        "Membership Opartor:-in operator"
      ],
      "metadata": {
        "id": "6jro7JvaxNK7"
      }
    },
    {
      "cell_type": "code",
      "source": [
        "list1=[1,2,3,4,5] \n",
        "list2=[6,7,8,9] \n",
        "for item in list1: \n",
        "    if item in list2: \n",
        "        print(\"overlapping\")     \n",
        "else: \n",
        "    print(\"not overlapping\")"
      ],
      "metadata": {
        "id": "cntTMikNxYrF"
      },
      "execution_count": null,
      "outputs": []
    },
    {
      "cell_type": "markdown",
      "source": [
        "Not in operator"
      ],
      "metadata": {
        "id": "vNyeD519xtmr"
      }
    },
    {
      "cell_type": "code",
      "source": [
        "x = 24\n",
        "y = 20\n",
        "list = [10, 20, 30, 40, 50 ]; \n",
        " \n",
        "if ( x not in list ): \n",
        " print (\"x is NOT present in given list\")\n",
        "else: \n",
        "print (\"x is present in given list\")\n",
        " \n",
        "if ( y in list ): \n",
        " print (\"y is present in given list\")\n",
        "else: \n",
        " print (\"y is NOT present in given list\")"
      ],
      "metadata": {
        "id": "IkEyLv2txwtw"
      },
      "execution_count": null,
      "outputs": []
    },
    {
      "cell_type": "markdown",
      "source": [
        "Built in function"
      ],
      "metadata": {
        "id": "AsB-HQyGx12n"
      }
    },
    {
      "cell_type": "code",
      "source": [
        "#print()\n",
        "print(\"Hello Python\")"
      ],
      "metadata": {
        "id": "0ur8LdC0x5Mo"
      },
      "execution_count": null,
      "outputs": []
    },
    {
      "cell_type": "code",
      "source": [
        "#type()\n",
        "a = ('apple', 'banana', 'cherry')\n",
        "b = \"Hello World\"\n",
        "c = 33\n",
        "\n",
        "x = type(a)\n",
        "y = type(b)\n",
        "z = type(c)\n",
        "print(\"output 1\",x)\n",
        "print(\"output 2\",y)\n",
        "print(\"output 3\",z)"
      ],
      "metadata": {
        "id": "tKQ6VwIF0fwm"
      },
      "execution_count": null,
      "outputs": []
    },
    {
      "cell_type": "code",
      "source": [
        "#input()\n",
        "x = input('Enter your name:')\n",
        "print('Hello, ' + x)"
      ],
      "metadata": {
        "id": "y5hQ_9vd0jme"
      },
      "execution_count": null,
      "outputs": []
    },
    {
      "cell_type": "code",
      "source": [
        "#abs()\n",
        "x = abs(-7.25)\n",
        "print(\"output\",x)"
      ],
      "metadata": {
        "id": "L2ZaBmVh0piM"
      },
      "execution_count": null,
      "outputs": []
    },
    {
      "cell_type": "code",
      "source": [
        "#any\n",
        "s1 = [False, True, False]\n",
        "x = any(s1)\n",
        "print(\"output\",x)"
      ],
      "metadata": {
        "id": "VDGX3k2-0wXh"
      },
      "execution_count": null,
      "outputs": []
    },
    {
      "cell_type": "code",
      "source": [
        "#all\n",
        "s1 = [True, True, True]\n",
        "x = all(s1)\n",
        "print(\"output\",x)"
      ],
      "metadata": {
        "id": "bewTza--0x4S"
      },
      "execution_count": null,
      "outputs": []
    }
  ]
}