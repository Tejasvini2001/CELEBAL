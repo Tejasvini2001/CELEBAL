{
  "nbformat": 4,
  "nbformat_minor": 0,
  "metadata": {
    "colab": {
      "name": "Week2 Assignments.ipynb",
      "provenance": [],
      "authorship_tag": "ABX9TyOA6+pZtRP4pc7+9nqv7xz1",
      "include_colab_link": true
    },
    "kernelspec": {
      "name": "python3",
      "display_name": "Python 3"
    },
    "language_info": {
      "name": "python"
    }
  },
  "cells": [
    {
      "cell_type": "markdown",
      "metadata": {
        "id": "view-in-github",
        "colab_type": "text"
      },
      "source": [
        "<a href=\"https://colab.research.google.com/github/Tejasvini2001/CELEBAL/blob/main/Week2_Assignments.ipynb\" target=\"_parent\"><img src=\"https://colab.research.google.com/assets/colab-badge.svg\" alt=\"Open In Colab\"/></a>"
      ]
    },
    {
      "cell_type": "code",
      "execution_count": null,
      "metadata": {
        "id": "paiAvMgGdGLF"
      },
      "outputs": [],
      "source": [
        ""
      ]
    },
    {
      "cell_type": "markdown",
      "source": [
        "Q.1] We have seen that lists are mutable (they can be changed), and tuples are immutable (they cannot be changed).\n",
        "\n",
        "Let's try to understand this with an example.\n",
        "\n",
        "You are given an immutable string, and you want to make changes to it."
      ],
      "metadata": {
        "id": "M_UB5TQDdHYa"
      }
    },
    {
      "cell_type": "code",
      "source": [
        "def mutate_string(string, position, character):\n",
        "    return string[:position]+character+string[position+1:]\n",
        "\n",
        "if __name__ == '__main__':\n",
        "    s = raw_input()\n",
        "    i, c = raw_input().split()\n",
        "    s_new = mutate_string(s, int(i), c)\n",
        "    print s_new"
      ],
      "metadata": {
        "id": "w9SULEnGdWwE"
      },
      "execution_count": null,
      "outputs": []
    },
    {
      "cell_type": "markdown",
      "source": [
        "Q.2] Given 2 sets of integers, M and N, print their symmetric difference in ascending order. The term symmetric difference indicates those values that exist in either M or N but do not exist in both."
      ],
      "metadata": {
        "id": "j7YeKZgWdfb8"
      }
    },
    {
      "cell_type": "code",
      "source": [
        "a,b=(int(input()),input().split())\n",
        "c,d=(int(input()),input().split())\n",
        "x=set(b)\n",
        "y=set(d)\n",
        "p=y.difference(x)\n",
        "q=x.difference(y)\n",
        "r=p.union(q)\n",
        "print('\\n'>join(sorted(r,key=int)))\n"
      ],
      "metadata": {
        "id": "_fFEWLahd0Q-"
      },
      "execution_count": null,
      "outputs": []
    },
    {
      "cell_type": "markdown",
      "source": [
        "Q.3] You are given a positive integer N .\n",
        "Your task is to print a palindromic triangle of size N.\n",
        "\n",
        "For example, a palindromic triangle of size 5 is:\n",
        "\n",
        "1"
      ],
      "metadata": {
        "id": "r3v1h1_Yd4xx"
      }
    },
    {
      "cell_type": "code",
      "source": [
        "for i in range(1,int(input())+1): \n",
        "    print (((10*i - 1)//9)*2)"
      ],
      "metadata": {
        "id": "afDD2FmoeWEV"
      },
      "execution_count": null,
      "outputs": []
    },
    {
      "cell_type": "markdown",
      "source": [
        "Q.4]In this task, we would like for you to appreciate the usefulness of the groupby() function of itertools . To read more about this function, Check this out .\n",
        "\n",
        "You are given a string S . Suppose a character 'c' occurs consecutively X times in the string. Replace these consecutive occurrences of the character 'C' with(X,c)  in the string.\n",
        "\n",
        "For a better understanding of the problem, check the explanation."
      ],
      "metadata": {
        "id": "p7igH___edUI"
      }
    },
    {
      "cell_type": "code",
      "source": [
        "from itertools import *\n",
        "\n",
        "io = input()\n",
        "for i,j in groupby(map(int,list(io))):\n",
        "    print(tuple([len(list(j)), i]) ,end = \" \")\n"
      ],
      "metadata": {
        "id": "wS5oT1qOfSBW"
      },
      "execution_count": null,
      "outputs": []
    },
    {
      "cell_type": "markdown",
      "source": [
        "q.5]You have a non-empty set S, and you have to execute N commands given in  N lines.\n",
        "\n",
        "The commands will be pop, remove and discard."
      ],
      "metadata": {
        "id": "_fLUAWFmfTiz"
      }
    },
    {
      "cell_type": "code",
      "source": [
        "n = int(input())\n",
        "s = set(map(int, input().split()))\n",
        "for i in range(int(input())):\n",
        "    inp = input()\n",
        "    if inp == \"pop\":\n",
        "        s.pop()\n",
        "    else:\n",
        "        command , value = inp.split()\n",
        "        if command == \"discard\":\n",
        "            s.discard(int(value))\n",
        "        else:\n",
        "            s.remove(int(value))\n",
        "print(sum(s))\n",
        "    \n"
      ],
      "metadata": {
        "id": "mXDRKQIFfs_9"
      },
      "execution_count": null,
      "outputs": []
    },
    {
      "cell_type": "markdown",
      "source": [
        "Q.6]You are given n words. Some words may repeat. For each word, output its number of occurrences. The output order should correspond with the input order of appearance of the word. See the sample input/output for clarification.\n",
        "\n",
        "Note: Each input line ends with a \"\\n\" character."
      ],
      "metadata": {
        "id": "0XzgjKLtfx-h"
      }
    },
    {
      "cell_type": "code",
      "source": [
        "n_ish = int(input())\n",
        "counter_dict = {}\n",
        "words_list = []\n",
        "\n",
        "for i in range(n_ish):\n",
        "  word = input()\n",
        "  words_list.append(word)\n",
        "  if word in counter_dict:\n",
        "    counter_dict[word] += 1\n",
        "  else:\n",
        "    counter_dict[word] = 1\n",
        "    \n",
        "print(len(counter_dict))\n",
        "print(' '.join([str(counter_dict[word]) for word in counter_dict])"
      ],
      "metadata": {
        "id": "jJP8I8KSgKke"
      },
      "execution_count": null,
      "outputs": []
    },
    {
      "cell_type": "markdown",
      "source": [
        "Q.7]There is a horizontal row of n cubes. The length of each cube is given. You need to create a new vertical pile of cubes. The new pile should follow these directions: if cube[i] is on top of cube[j]  then sideLenth[j]>=sideLenth[i].\n",
        "\n",
        "When stacking the cubes, you can only pick up either the leftmost or the rightmost cube each time. Print Yes if it is possible to stack the cubes. Otherwise, print No."
      ],
      "metadata": {
        "id": "7mAXgxCkgfyV"
      }
    },
    {
      "cell_type": "code",
      "source": [
        "from collections import deque\n",
        "\n",
        "N = int(input())\n",
        "\n",
        "for _ in range(N):\n",
        "    flag = True\n",
        "    input()\n",
        "    d = deque(map(int, input().strip().split()))\n",
        "    if(d[0] >= d[-1]):\n",
        "        max = d.popleft()\n",
        "    else:\n",
        "        max = d.pop()\n",
        "    while d:\n",
        "        if(len(d)==1):\n",
        "            if(d[0] <= max):\n",
        "                break\n",
        "            else:\n",
        "                flag = False\n",
        "                break\n",
        "        else:\n",
        "            if(d[0]<=max and d[-1]<=max):\n",
        "                if(d[0]>=d[-1]):\n",
        "                    max = d.popleft()\n",
        "                else:\n",
        "                    max = d.pop()\n",
        "            elif(d[0]<=max):\n",
        "                max = d.popleft()\n",
        "            elif(d[-1]<=max):\n",
        "                max = d.pop()\n",
        "            else:\n",
        "                flag = False\n",
        "                break\n",
        "    if flag:\n",
        "        print(\"Yes\")\n",
        "    else:\n",
        "        print(\"No\")"
      ],
      "metadata": {
        "id": "DWcrmdFVhJPB"
      },
      "execution_count": null,
      "outputs": []
    },
    {
      "cell_type": "markdown",
      "source": [
        "Q.8] Apply your knowledge of the .add() operation to help your friend Rupal.\n",
        "\n",
        "Rupal has a huge collection of country stamps. She decided to count the total number of distinct country stamps in her collection. She asked for your help. You pick the stamps one by one from a stack of  N country stamps.\n"
      ],
      "metadata": {
        "id": "_FgTAoOShKti"
      }
    },
    {
      "cell_type": "code",
      "source": [
        "n=int(input())\n",
        "set1=set()\n",
        "for i in range(n):\n",
        "    set1.add(input())\n",
        "print(len(set1))\n"
      ],
      "metadata": {
        "id": "dCIftNrHhazR"
      },
      "execution_count": null,
      "outputs": []
    },
    {
      "cell_type": "markdown",
      "source": [
        "Q.9]There is an array of n integers. There are also 2 disjoint sets, A and B, each containing m integers. You like all the integers in set A  and dislike all the integers in set B. Your initial happiness is 0. For each A integer in the array, if , you add  to your happiness B. If , you add -1 to your happiness. Otherwise, your happiness does not change. Output your final happiness at the end."
      ],
      "metadata": {
        "id": "b98AzqD_he83"
      }
    },
    {
      "cell_type": "code",
      "source": [
        "io = input().split()\n",
        "m = int(io[0])\n",
        "n = int(io[1])\n",
        "\n",
        "storage = list()\n",
        "count = 0\n",
        "\n",
        "storage = list(map(int, input().strip().split()))\n",
        "\n",
        "A = set(map(int, input().strip().split()))\n",
        "B = set(map(int, input().strip().split()))\n",
        "\n",
        "for i in storage:\n",
        "    if i in A:\n",
        "        count = count+1\n",
        "    if i in B:\n",
        "        count = count-1\n",
        "\n",
        "print(count)\n"
      ],
      "metadata": {
        "id": "FXUqux-PiMfx"
      },
      "execution_count": null,
      "outputs": []
    },
    {
      "cell_type": "markdown",
      "source": [
        "Q.10]triangle,90  at B.\n",
        "Therefore,AngleABC =90 .\n",
        "\n",
        "Point M is the midpoint of hypotenuse AC .\n",
        "\n",
        "You are given the lengths AB  and BC.\n",
        "Your task is to find AngleMBC  (angle , as shown in the figure) in degrees"
      ],
      "metadata": {
        "id": "rMU32a_MiP8y"
      }
    },
    {
      "cell_type": "code",
      "source": [
        "import math\n",
        "\n",
        "AB = int(input())\n",
        "BC = int(input())\n",
        "\n",
        "tita = (math.atan(AB/BC))\n",
        "\n",
        "tita_to_degree = round(math.degrees(tita))\n",
        "\n",
        "print(tita_to_degree,chr(176),sep ='')\n"
      ],
      "metadata": {
        "id": "m5922IpPi-wY"
      },
      "execution_count": null,
      "outputs": []
    },
    {
      "cell_type": "markdown",
      "source": [
        "Q.11]Now, let's use our knowledge of sets and help Mickey.\n",
        "\n",
        "Ms. Gabriel Williams is a botany professor at District College. One day, she asked her student Mickey to compute the average of all the plants with distinct heights in her greenhouse.\n",
        "\n",
        "\n",
        "\n"
      ],
      "metadata": {
        "id": "oSdQfUvPjExu"
      }
    },
    {
      "cell_type": "code",
      "source": [
        "from __future__ import division\n",
        "\n",
        "def average(array):\n",
        "    return sum(set(array))/len(set(array))\n",
        "    # your code goes here\n",
        "\n",
        "if __name__ == '__main__':\n",
        "    n = int(raw_input())\n",
        "    arr = map(int, raw_input().split())\n",
        "    result = average(arr)\n",
        "    print result\n",
        "    "
      ],
      "metadata": {
        "id": "LFLUq1CcjV30"
      },
      "execution_count": null,
      "outputs": []
    },
    {
      "cell_type": "markdown",
      "source": [
        "Q.12]Both players are given the same string, .\n",
        "Both players have to make substrings using the letters of the string .\n",
        "Stuart has to make words starting with consonants.\n",
        "Kevin has to make words starting with vowels.\n",
        "The game ends when both players have made all possible substrings."
      ],
      "metadata": {
        "id": "P-Bx0ay_jb_d"
      }
    },
    {
      "cell_type": "code",
      "source": [
        "def minion_game(string):\n",
        "    # your code goes here\n",
        "    vowel = 'aeiou'.upper()\n",
        "    strl = len(string)\n",
        "    kevin = sum(strl-i for i in range(strl) if string[i] in vowel)\n",
        "    stuart = strl*(strl + 1)/2 - kevin\n",
        "    if kevin == stuart:\n",
        "        print ('Draw')\n",
        "    elif kevin > stuart:\n",
        "        print ('Kevin %d' % kevin)\n",
        "    else:\n",
        "        print ('Stuart %d' % stuart)\n",
        "\n",
        "if __name__ == '__main__':\n",
        "    s = raw_input()\n",
        "    minion_game(s)\n",
        "    "
      ],
      "metadata": {
        "id": "nRgLGypajnA_"
      },
      "execution_count": null,
      "outputs": []
    },
    {
      "cell_type": "markdown",
      "source": [
        "Q.13]You are asked to ensure that the first and last names of people begin with a capital letter in their passports. For example, alison heck should be capitalised correctly as Alison Heck.\n",
        "\n",
        "\n",
        "Given a full name, your task is to capitalize the name appropriately."
      ],
      "metadata": {
        "id": "3S-7zp_ojtFX"
      }
    },
    {
      "cell_type": "code",
      "source": [
        "def solve(s):\n",
        "    for i in s.split():\n",
        "        s = s.replace(i,i.capitalize())\n",
        "    return s\n",
        "# Complete the solve function below.\n",
        "\n",
        "if __name__ == '__main__':\n",
        "    fptr = open(os.environ['OUTPUT_PATH'], 'w')\n",
        "\n",
        "    s = raw_input()\n",
        "\n",
        "    result = solve(s)\n",
        "\n",
        "    fptr.write(result + '\\n')\n",
        "\n",
        "    fptr.close()\n"
      ],
      "metadata": {
        "id": "Txo29cdpj4ek"
      },
      "execution_count": null,
      "outputs": []
    },
    {
      "cell_type": "markdown",
      "source": [
        "Q.14]You are given an integer,N . Your task is to print an alphabet rangoli of size N. (Rangoli is a form of Indian folk art based on creation of patterns.)"
      ],
      "metadata": {
        "id": "Omuxm45yj-bL"
      }
    },
    {
      "cell_type": "code",
      "source": [
        "def print_rangoli(size):\n",
        "    \n",
        "    import string\n",
        "    alpha = string.ascii_lowercase\n",
        "\n",
        "    L = []\n",
        "    for i in range(n):\n",
        "        s = \"-\".join(alpha[i:n])\n",
        "        L.append((s[::-1]+s[1:]).center(4*n-3, \"-\"))\n",
        "        \n",
        "    print('\\n'.join(L[:0:-1]+L))\n",
        "    # your code goes here\n",
        "\n",
        "if __name__ == '__main__':\n",
        "    n = int(raw_input())\n",
        "    print_rangoli(n)\n",
        "    "
      ],
      "metadata": {
        "id": "BNnKkUp-kKfU"
      },
      "execution_count": null,
      "outputs": []
    },
    {
      "cell_type": "markdown",
      "source": [
        "Q.15]Given an integer,n , print the following values for each integer i from  1to n:\n",
        "\n",
        "Decimal\n",
        "Octal\n",
        "Hexadecimal (capitalized)\n",
        "Binary\n",
        "Function Description\n",
        "\n",
        "Complete the print_formatted function in the editor below.\n",
        "\n",
        "print_formatted has the following parameters:\n",
        "\n",
        "int number: the maximum value to print"
      ],
      "metadata": {
        "id": "LbYYTgNUkPqG"
      }
    },
    {
      "cell_type": "code",
      "source": [
        "def print_formatted(number):\n",
        "    \n",
        "\n",
        "    width = len(\"{0:b}\".format(number)) + 1\n",
        "\n",
        "    for i in xrange(1, number + 1):\n",
        "        print \"{0:d}\".format(i).rjust(width - 1) + \"{0:o}\".format(i).rjust(width) + \"{0:X}\".format(i).rjust(width) + \"{0:b}\".format(i).rjust(width)\n",
        "    # your code goes here\n",
        "\n",
        "if __name__ == '__main__':\n",
        "    n = int(raw_input())\n",
        "    print_formatted(n)"
      ],
      "metadata": {
        "id": "-EKFZ3uwkpU7"
      },
      "execution_count": null,
      "outputs": []
    },
    {
      "cell_type": "markdown",
      "source": [
        "Q.16]Mr. Vincent works in a door mat manufacturing company. One day, he designed a new door mat with the following specifications:\n",
        "\n",
        "Mat size must be N XM. ( is an odd natural number,M and 3 is  times N .)\n",
        "The design should have 'WELCOME' written in the center.\n",
        "The design pattern should only use |, . and - characters."
      ],
      "metadata": {
        "id": "VN3ROGCTkuWc"
      }
    },
    {
      "cell_type": "code",
      "source": [
        "n,m = input().split()\n",
        "n = int(n)\n",
        "m = int(m)\n",
        "#printing first half\n",
        "for i in range(n//2):\n",
        "    t = int((2*i)+1)\n",
        "    print(('.|.'*t).center(m, '-'))\n",
        "#printing middle line\n",
        "print('WELCOME'.center(m,'-'))\n",
        "#printing last half\n",
        "for i in reversed(range(n//2)):\n",
        "    t = int((2*i)+1)\n",
        "    print(('.|.'*t).center(m, '-'))\n"
      ],
      "metadata": {
        "id": "K8r494aKlTAi"
      },
      "execution_count": null,
      "outputs": []
    },
    {
      "cell_type": "markdown",
      "source": [
        "Q.17]You are given a string S and width W.\n",
        "Your task is to wrap the string into a paragraph of width .\n",
        "\n",
        "Function Description\n",
        "\n",
        "Complete the wrap function in the editor below.\n",
        "\n",
        "wrap has the following parameters:\n",
        "\n",
        "string string: a long string\n",
        "int max_width: the width to wrap to\n"
      ],
      "metadata": {
        "id": "JJVdsSi3ludw"
      }
    },
    {
      "cell_type": "code",
      "source": [
        "import textwrap\n",
        "def wrap(string, max_width):\n",
        "    # Text Wrap in Python - HackerRank Solution START\n",
        "    return textwrap.fill(string,max_width)\n",
        "    # Text Wrap in Python - HackerRank Solution END\n",
        "\n",
        "        \n",
        "if __name__ == '__main__':\n",
        "    string, max_width = raw_input(), int(raw_input())\n",
        "    result = wrap(string, max_width)\n",
        "    print result"
      ],
      "metadata": {
        "id": "6FvOROw7mJlB"
      },
      "execution_count": null,
      "outputs": []
    },
    {
      "cell_type": "markdown",
      "source": [
        "Q.18]You are given a partial code that is used for generating the HackerRank Logo of variable thickness.\n",
        "Your task is to replace the blank (______) with rjust, ljust or center."
      ],
      "metadata": {
        "id": "VrvycKlJmPec"
      }
    },
    {
      "cell_type": "code",
      "source": [
        "def main():\n",
        "    # Replace all __ with rjust, ljust or center. \n",
        "\n",
        "    thickness = int(input())  # This must be an odd number\n",
        "    c = 'H'\n",
        "    \n",
        "    # Top Cone\n",
        "    for i in range(thickness):\n",
        "        print((c * i).rjust(thickness - 1) + c + (c * i).ljust(thickness - 1))\n",
        "    \n",
        "    # Top Pillars\n",
        "    for i in range(thickness + 1):\n",
        "        print((c * thickness).center(thickness * 2) + (c * thickness).center(thickness * 6))\n",
        "    \n",
        "    # Middle Belt\n",
        "    for i in range((thickness + 1) // 2):\n",
        "        print((c * thickness * 5).center(thickness * 6))    \n",
        "    \n",
        "    # Bottom Pillars\n",
        "    for i in range(thickness + 1):\n",
        "        print((c * thickness).center(thickness * 2) + (c * thickness).center(thickness * 6))    \n",
        "    \n",
        "    # Bottom Cone\n",
        "    for i in range(thickness):\n",
        "        print(((c * (thickness - i - 1)).rjust(thickness) + c + (c * (thickness - i - 1)).ljust(thickness)).rjust(thickness * 6))  \n",
        "\n",
        "if __name__ == '__main__':\n",
        "    main()\n"
      ],
      "metadata": {
        "id": "eY6ZPXQMmdEI"
      },
      "execution_count": null,
      "outputs": []
    },
    {
      "cell_type": "markdown",
      "source": [
        "Q.19]You are given a string S .\n",
        "Your task is to find out if the string S  contains: alphanumeric characters, alphabetical characters, digits, lowercase and uppercase characters."
      ],
      "metadata": {
        "id": "ltfkkzwTmnKt"
      }
    },
    {
      "cell_type": "code",
      "source": [
        "S = raw_input()\n",
        "print any([char.isalnum() for char in S])\n",
        "print any([char.isalpha() for char in S])\n",
        "print any([char.isdigit() for char in S])\n",
        "print any([char.islower() for char in S])\n",
        "print any([char.isupper() for char in S])\n"
      ],
      "metadata": {
        "id": "J0-wa-s-m6c9"
      },
      "execution_count": null,
      "outputs": []
    },
    {
      "cell_type": "markdown",
      "source": [
        "Q.20]In this challenge, the user enters a string and a substring. You have to print the number of times that the substring occurs in the given string. String traversal will take place from left to right, not from right to left."
      ],
      "metadata": {
        "id": "Xj_lNAMbnSPH"
      }
    },
    {
      "cell_type": "code",
      "source": [
        "def count_substring(string, sub_string):\n",
        "    s=len(string)\n",
        "    p=len(sub_string)\n",
        "    c=0\n",
        "    \n",
        "    for i in range(s-p+1):\n",
        "        if(string[i:(i+p)]== sub_string):\n",
        "            c=c+1\n",
        "    return c\n",
        "\n",
        "if __name__ == '__main__':\n",
        "    string = raw_input().strip()\n",
        "    sub_string = raw_input().strip()\n",
        "    \n",
        "    count = count_substring(string, sub_string)\n",
        "    print count"
      ],
      "metadata": {
        "id": "YQtQE4nyngGO"
      },
      "execution_count": null,
      "outputs": []
    },
    {
      "cell_type": "markdown",
      "source": [
        "Q.21]If we want to add a single element to an existing set, we can use the .add() operation.\n",
        "It adds the element to the set and returns 'None'."
      ],
      "metadata": {
        "id": "mtwVudVIn5TV"
      }
    },
    {
      "cell_type": "code",
      "source": [
        "n=int(input())\n",
        "set1=set()\n",
        "for i in range(n):\n",
        "    set1.add(input())\n",
        "print(len(set1))\n"
      ],
      "metadata": {
        "id": "d2iMPGosoUjI"
      },
      "execution_count": null,
      "outputs": []
    },
    {
      "cell_type": "markdown",
      "source": [
        "Q.22]You are given  words. Some words may repeat. For each word, output its number of occurrences. The output order should correspond with the input order of appearance of the word. See the sample input/output for clarification."
      ],
      "metadata": {
        "id": "jCVcGqkjoX6o"
      }
    },
    {
      "cell_type": "code",
      "source": [
        "n_ish = int(input())\n",
        "counter_dict = {}\n",
        "words_list = []\n",
        "\n",
        "for i in range(n_ish):\n",
        "  word = input()\n",
        "  words_list.append(word)\n",
        "  if word in counter_dict:\n",
        "    counter_dict[word] += 1\n",
        "  else:\n",
        "    counter_dict[word] = 1\n",
        "    \n",
        "print(len(counter_dict))\n",
        "print(' '.join([str(counter_dict[word]) for word in counter_dict])\n"
      ],
      "metadata": {
        "id": "06H-YvufoqM0"
      },
      "execution_count": null,
      "outputs": []
    },
    {
      "cell_type": "markdown",
      "source": [
        "Q.23]This operation removes element x from the set.\n",
        "If element x does not exist, it raises a KeyError.\n",
        "The .remove(x) operation returns None."
      ],
      "metadata": {
        "id": "4DAMa2keoupj"
      }
    },
    {
      "cell_type": "code",
      "source": [
        "n = int(input())\n",
        "s = set(map(int, input().split()))\n",
        "for i in range(int(input())):\n",
        "    inp = input()\n",
        "    if inp == \"pop\":\n",
        "        s.pop()\n",
        "    else:\n",
        "        command , value = inp.split()\n",
        "        if command == \"discard\":\n",
        "            s.discard(int(value))\n",
        "        else:\n",
        "            s.remove(int(value))\n",
        "print(sum(s))\n",
        "    \n"
      ],
      "metadata": {
        "id": "ji26dFfapAnf"
      },
      "execution_count": null,
      "outputs": []
    },
    {
      "cell_type": "markdown",
      "source": [
        "Q.24]You are given a partial code that is used for generating the HackerRank Logo of variable thickness.\n",
        "Your task is to replace the blank (______) with rjust, ljust or center.\n",
        "\n",
        "Input Format"
      ],
      "metadata": {
        "id": "7DYA77kqpGBW"
      }
    },
    {
      "cell_type": "code",
      "source": [
        "#Replace all ______ with rjust, ljust or center. \n",
        "\n",
        "thickness = int(raw_input()) #This must be an odd number\n",
        "c = 'H'\n",
        "\n",
        "#Top Cone\n",
        "for i in range(thickness):\n",
        "    print (c*i).______(thickness-1)+c+(c*i).______(thickness-1)\n",
        "\n",
        "#Top Pillars\n",
        "for i in range(thickness+1):\n",
        "    print (c*thickness).______(thickness*2)+(c*thickness).______(thickness*6)\n",
        "\n",
        "#Middle Belt\n",
        "for i in range((thickness+1)/2):\n",
        "    print (c*thickness*5).______(thickness*6)    \n",
        "\n",
        "#Bottom Pillars\n",
        "for i in range(thickness+1):\n",
        "    print (c*thickness).______(thickness*2)+(c*thickness).______(thickness*6)    \n",
        "\n",
        "#Bottom Cone\n",
        "for i in range(thickness):\n",
        "    print ((c*(thickness-i-1)).______(thickness)+c+(c*(thickness-i-1)).______(thickness)).______(thickness*6)"
      ],
      "metadata": {
        "id": "I601oMo_puJ3"
      },
      "execution_count": null,
      "outputs": []
    },
    {
      "cell_type": "markdown",
      "source": [
        ""
      ],
      "metadata": {
        "id": "5LRcvuSvp0S-"
      }
    }
  ]
}