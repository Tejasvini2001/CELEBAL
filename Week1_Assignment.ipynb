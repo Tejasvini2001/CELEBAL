{
  "nbformat": 4,
  "nbformat_minor": 0,
  "metadata": {
    "colab": {
      "name": "Week1 Assignment.ipynb",
      "provenance": [],
      "authorship_tag": "ABX9TyOiCvs+kL6boFAqZrMYF8I6",
      "include_colab_link": true
    },
    "kernelspec": {
      "name": "python3",
      "display_name": "Python 3"
    },
    "language_info": {
      "name": "python"
    }
  },
  "cells": [
    {
      "cell_type": "markdown",
      "metadata": {
        "id": "view-in-github",
        "colab_type": "text"
      },
      "source": [
        "<a href=\"https://colab.research.google.com/github/Tejasvini2001/CELEBAL/blob/main/Week1_Assignment.ipynb\" target=\"_parent\"><img src=\"https://colab.research.google.com/assets/colab-badge.svg\" alt=\"Open In Colab\"/></a>"
      ]
    },
    {
      "cell_type": "code",
      "execution_count": null,
      "metadata": {
        "id": "e8Ter_b9x_hU"
      },
      "outputs": [],
      "source": [
        ""
      ]
    },
    {
      "cell_type": "markdown",
      "source": [
        ""
      ],
      "metadata": {
        "id": "BUivZAhuyB4V"
      }
    },
    {
      "cell_type": "markdown",
      "source": [
        "Q.1] The included code stub will read an integer, , from STDIN.\n",
        "\n",
        "Without using any string methods, try to print the following:\n",
        "123...n.\n",
        "\n",
        "\n",
        "Note that \"...\" represents the consecutive values in between."
      ],
      "metadata": {
        "id": "hpl6uczLztgO"
      }
    },
    {
      "cell_type": "code",
      "source": [
        "from __future__ import print_function\n",
        "\n",
        "if __name__ == '__main__':\n",
        "    n = int(raw_input())\n",
        "\n",
        "for i in range(n):\n",
        "    print(i+1,end=\"\")\n"
      ],
      "metadata": {
        "id": "Tc8leasxz1iZ"
      },
      "execution_count": null,
      "outputs": []
    },
    {
      "cell_type": "markdown",
      "source": [
        "Q.2] The provided code stub reads and integer, n, from STDIN. For all non-negative integers i<n , print i^2"
      ],
      "metadata": {
        "id": "XbHMu6zk0M_a"
      }
    },
    {
      "cell_type": "code",
      "source": [
        "if __name__ == '__main__':\n",
        "    n = int(raw_input())\n",
        "    for i in range(n):\n",
        "        print(i*i)\n"
      ],
      "metadata": {
        "id": "wk38njQg0ui2"
      },
      "execution_count": null,
      "outputs": []
    },
    {
      "cell_type": "markdown",
      "source": [
        "Q.3]The provided code stub reads two integers,  and , from STDIN.\n",
        "\n",
        "Add logic to print two lines. The first line should contain the result of integer division, a//b . The second line should contain the result of float division, a/b .\n",
        "\n"
      ],
      "metadata": {
        "id": "WcSAQniI02XG"
      }
    },
    {
      "cell_type": "code",
      "source": [
        "from __future__ import division\n",
        "\n",
        "if __name__ == '__main__':\n",
        "    a = int(raw_input())\n",
        "    b = int(raw_input())\n",
        "\n",
        "    c = a//b\n",
        "    d = a/b\n",
        "    print(\"%d\\n%f\"%(c,d))\n",
        "    \n"
      ],
      "metadata": {
        "id": "oJ4BcHXs1IdC"
      },
      "execution_count": null,
      "outputs": []
    },
    {
      "cell_type": "markdown",
      "source": [
        "Q.4] The provided code stub reads two integers from STDIN, a and b . Add code to print three lines where:\n",
        "\n",
        "1.The first line contains the sum of the two numbers.\n",
        "2.The second line contains the difference of the two numbers (first - second).\n",
        "3.The third line contains the product of the two numbers."
      ],
      "metadata": {
        "id": "EG4k1IYa1Ymp"
      }
    },
    {
      "cell_type": "code",
      "source": [
        "if _name_ == '_main_':\n",
        "    a = int(raw_input())\n",
        "    b = int(raw_input())\n",
        "    c=a+b\n",
        "    d=a-b\n",
        "    e=a*b\n",
        "    print(\"%d\\n%d\\n%d\\n\"%(c,d,e))"
      ],
      "metadata": {
        "id": "a9DjAkVQ1t88"
      },
      "execution_count": null,
      "outputs": []
    },
    {
      "cell_type": "markdown",
      "source": [
        "Q.5]Given an integer,n , perform the following conditional actions:\n",
        "\n",
        "If n is odd, print Weird\n",
        "If n is even and in the inclusive range of 2 to5 , print Not Weird\n",
        "If n is even and in the inclusive range of 6 to 20 , print Weird\n",
        "If n is even and greater than , print Not Weird"
      ],
      "metadata": {
        "id": "Kxu9epKh2CKs"
      }
    },
    {
      "cell_type": "code",
      "source": [
        "import math\n",
        "import os\n",
        "import random\n",
        "import re\n",
        "import sys\n",
        "\n",
        "\n",
        "\n",
        "if __name__ == '__main__':\n",
        "    n = int(raw_input().strip())\n",
        "if n%2!=0:\n",
        "    print(\"Weird\")\n",
        "else:\n",
        "    if n>=2 and n<=5:\n",
        "        print(\"Not Weird\")\n",
        "    elif n>=6 and n<=20:\n",
        "        print(\"Weird\")\n",
        "    elif n>20:\n",
        "        print(\"Not Weird\")\n"
      ],
      "metadata": {
        "id": "QdioJvtp2YGq"
      },
      "execution_count": null,
      "outputs": []
    },
    {
      "cell_type": "markdown",
      "source": [
        "Q.6]Let's learn about list comprehensions! You are given three integers x,y  and z representing the dimensions of a cuboid along with an integer n . Print a list of all possible coordinates given by (i,j,k) on a 3D grid where the sum of i\n",
        "+j+k is not equal to n. "
      ],
      "metadata": {
        "id": "dMNz6u9Y2Z_J"
      }
    },
    {
      "cell_type": "code",
      "source": [
        "if __name__ == '__main__':\n",
        "    x = int(raw_input())\n",
        "    y = int(raw_input())\n",
        "    z = int(raw_input())\n",
        "    n = int(raw_input())\n",
        "    ans =[[i,j,k] for i in range(x+1) for j in range(y+1) for k in range(z+1) if i+j+k!=n]\n",
        "    print ans\n"
      ],
      "metadata": {
        "id": "8ZPJYfZ_3SLT"
      },
      "execution_count": null,
      "outputs": []
    },
    {
      "cell_type": "markdown",
      "source": [
        "Q.7]Given the participants' score sheet for your University Sports Day, you are required to find the runner-up score. You are given  scores. Store them in a list and find the score of the runner-up."
      ],
      "metadata": {
        "id": "s_3ZeFap3mC4"
      }
    },
    {
      "cell_type": "code",
      "source": [
        "if __name__ == '__main__':\n",
        "    n = int(raw_input())\n",
        "    arr = map(int, raw_input().split())\n",
        "    print(sorted(list(set(arr)))[-2])\n"
      ],
      "metadata": {
        "id": "FaqLgzrL3yYJ"
      },
      "execution_count": null,
      "outputs": []
    },
    {
      "cell_type": "markdown",
      "source": [
        "Q.8]Given the names and grades for each student in a class of N students, store them in a nested list and print the name(s) of any student(s) having the second lowest grade"
      ],
      "metadata": {
        "id": "U290kv4n3z6E"
      }
    },
    {
      "cell_type": "code",
      "source": [
        "score_list= [];\n",
        "for _ in range(int(raw_input())):\n",
        "    name = raw_input()\n",
        "    score = float(raw_input())\n",
        "    score_list.append([name,score])\n",
        "second_highest = sorted(set([score for name, score in score_list]))[1]\n",
        "print('\\n'.join(sorted([name for name,score in score_list if score == second_highest])))\n"
      ],
      "metadata": {
        "id": "3GlWLSJy4Dgw"
      },
      "execution_count": null,
      "outputs": []
    },
    {
      "cell_type": "markdown",
      "source": [
        "Q.9]An extra day is added to the calendar almost every four years as February 29, and the day is called a leap day. It corrects the calendar for the fact that our planet takes approximately 365.25 days to orbit the sun. A leap year contains a leap day.\n",
        "\n",
        "In the Gregorian calendar, three conditions are used to identify leap years:\n",
        "\n",
        "The year can be evenly divided by 4, is a leap year, unless:\n",
        "The year can be evenly divided by 100, it is NOT a leap year, unless:\n",
        "The year is also evenly divisible by 400. Then it is a leap year.\n",
        "This means that in the Gregorian calendar, the years 2000 and 2400 are leap years, while 1800, 1900, 2100, 2200, 2300 and 2500 are NOT leap years. Source"
      ],
      "metadata": {
        "id": "OR-lsF6Y4Md9"
      }
    },
    {
      "cell_type": "code",
      "source": [
        "def is_leap(year):\n",
        "    leap = False\n",
        "    \n",
        "    # Write your logic here\n",
        "    if year % 400== 0:\n",
        "        leap =True\n",
        "    elif year % 100 == 0:\n",
        "        leap = False\n",
        "    elif year % 4 ==0:\n",
        "        leap = True\n",
        "    \n",
        "    return leap\n",
        "\n",
        "year = int(raw_input())\n"
      ],
      "metadata": {
        "id": "uA3qVt-P4pPQ"
      },
      "execution_count": null,
      "outputs": []
    },
    {
      "cell_type": "markdown",
      "source": [
        "Q.10]Given an integer,n ,n and  space-separated integers as input, create a tuple,t , n of those  integers. Then compute and print the result of hast(t).\n",
        "\n"
      ],
      "metadata": {
        "id": "oB4GRxcY5l1D"
      }
    },
    {
      "cell_type": "code",
      "source": [
        "if __name__ == '__main__':\n",
        "    n = int(raw_input())\n",
        "integer_list = map(int, raw_input().split())\n",
        "t=tuple(integer_list)\n",
        "print(hash(t))\n"
      ],
      "metadata": {
        "id": "0obvWcwN7E3v"
      },
      "execution_count": null,
      "outputs": []
    },
    {
      "cell_type": "markdown",
      "source": [
        ""
      ],
      "metadata": {
        "id": "N9zeZd0d93Tt"
      }
    },
    {
      "cell_type": "code",
      "source": [
        ""
      ],
      "metadata": {
        "id": "g1Urt5ee94dV"
      },
      "execution_count": null,
      "outputs": []
    },
    {
      "cell_type": "markdown",
      "source": [
        "Q.11]Consider a list (list = []). You can perform the following commands:\n",
        "\n",
        "insert i e: Insert integer  at position .\n",
        "print: Print the list.\n",
        "remove e: Delete the first occurrence of integer .\n",
        "append e: Insert integer  at the end of the list.\n",
        "sort: Sort the list.\n",
        "pop: Pop the last element from the list.\n",
        "reverse: Reverse the list."
      ],
      "metadata": {
        "id": "GQmGMUDC9898"
      }
    },
    {
      "cell_type": "code",
      "source": [
        "list = []\n",
        "n = int(raw_input())\n",
        "for i in range(n):\n",
        "    a = raw_input().split()\n",
        "    if len(a) == 3:\n",
        "        eval(\"list.\" + a[0] + \"(\" + a[1] + \",\" + a[2] + \")\")\n",
        "    elif len(a) == 2:\n",
        "        eval(\"list.\" + a[0] + \"(\" + a[1] + \")\")\n",
        "    elif a[0] == \"print\":\n",
        "        print list\n",
        "    else:\n",
        "        eval(\"list.\" + a[0] + \"()\")\n",
        "        "
      ],
      "metadata": {
        "id": "O6M0iRv39-ku"
      },
      "execution_count": null,
      "outputs": []
    },
    {
      "cell_type": "markdown",
      "source": [
        "Q.12]You are given a string and your task is to swap cases. In other words, convert all lowercase letters to uppercase letters and vice versa."
      ],
      "metadata": {
        "id": "y0V_tlmt_ySl"
      }
    },
    {
      "cell_type": "markdown",
      "source": [
        ""
      ],
      "metadata": {
        "id": "UoFEPfCS_70E"
      }
    },
    {
      "cell_type": "code",
      "source": [
        "def swap_case(s):\n",
        "\n",
        "    # sWAP cASE in Python - HackerRank Solution START\n",
        "    Output = '';\n",
        "    for char in s:\n",
        "        if(char.isupper()==True):\n",
        "            Output += (char.lower());\n",
        "        elif(char.islower()==True):\n",
        "            Output += (char.upper());\n",
        "        else:\n",
        "            Output += char;\n",
        "    return Output;\n",
        "    # sWAP cASE in Python - HackerRank Solution END\n",
        "if __name__ == '__main__':\n",
        "    s = raw_input()\n",
        "    result = swap_case(s)\n",
        "    print result\n",
        "    "
      ],
      "metadata": {
        "id": "cgqW_HOk_znI"
      },
      "execution_count": null,
      "outputs": []
    },
    {
      "cell_type": "markdown",
      "source": [
        "\n"
      ],
      "metadata": {
        "id": "kMST5RxK_-Ao"
      }
    },
    {
      "cell_type": "markdown",
      "source": [
        "\n",
        "Q.13]In Python, a string can be split on a delimiter."
      ],
      "metadata": {
        "id": "L0YjnYamAOeB"
      }
    },
    {
      "cell_type": "code",
      "source": [
        "def split_and_join(line):\n",
        "    a = line.split(\" \")\n",
        "    a = \"-\".join(a)\n",
        "    return a\n",
        "if __name__ == '__main__':\n",
        "    line = raw_input()\n",
        "    result = split_and_join(line)\n",
        "    print result\n",
        "    "
      ],
      "metadata": {
        "id": "uS-YzJeQAUeS"
      },
      "execution_count": null,
      "outputs": []
    },
    {
      "cell_type": "markdown",
      "source": [
        "Q.14]You are given the firstname and lastname of a person on two different lines. Your task is to read them and print the following:\n",
        "\n",
        "Hello firstname lastname! You just delved into python.\n",
        "\n",
        "Function Description\n",
        "\n",
        "Complete the print_full_name function in the editor below.\n",
        "\n",
        "print_full_name has the following parameters:\n",
        "\n",
        "string first: the first name\n",
        "string last: the last name"
      ],
      "metadata": {
        "id": "rEaVMm0WApvS"
      }
    },
    {
      "cell_type": "code",
      "source": [
        "def print_full_name(a, b):\n",
        "    print(\"Hello %s %s! You just delved into python.\"%(a,b))\n",
        "\n",
        "\n",
        "if __name__ == '__main__':\n",
        "    first_name = raw_input()\n",
        "    last_name = raw_input()\n",
        "    print_full_name(first_name, last_name)\n",
        "    \n"
      ],
      "metadata": {
        "id": "JBwnNK7DA7fv"
      },
      "execution_count": null,
      "outputs": []
    },
    {
      "cell_type": "markdown",
      "source": [
        "Q.15]The provided code stub will read in a dictionary containing key/value pairs of name:[marks] for a list of students. Print the average of the marks array for the student name provided, showing 2 places after the decimal."
      ],
      "metadata": {
        "id": "n9VkWhw2C2Id"
      }
    },
    {
      "cell_type": "code",
      "source": [
        "if __name__ == '__main__':\n",
        "    n = int(raw_input())\n",
        "    student_marks = {}\n",
        "    for _ in range(n):\n",
        "        line = raw_input().split()\n",
        "        name, scores = line[0], line[1:]\n",
        "        scores = map(float, scores)\n",
        "        student_marks[name] = scores\n",
        "    query_name = raw_input()\n",
        "    marks=0\n",
        "    for i in student_marks[query_name]:\n",
        "        marks=marks+i\n",
        "    avg=marks/3\n",
        "    print(\"%.2f\"%avg)\n"
      ],
      "metadata": {
        "id": "GUBSHTeaD6Yt"
      },
      "execution_count": null,
      "outputs": []
    },
    {
      "cell_type": "markdown",
      "source": [
        ""
      ],
      "metadata": {
        "id": "26846Ra3Ce0s"
      }
    },
    {
      "cell_type": "markdown",
      "source": [
        ""
      ],
      "metadata": {
        "id": "gYSPUnfs0ATa"
      }
    }
  ]
}